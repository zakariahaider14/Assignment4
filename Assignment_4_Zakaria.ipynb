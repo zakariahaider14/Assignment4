{
 "cells": [
  {
   "cell_type": "code",
   "execution_count": 1,
   "id": "08dcd422",
   "metadata": {},
   "outputs": [
    {
     "name": "stdout",
     "output_type": "stream",
     "text": [
      "Given List: [1, 5, 2, 9, 3, 22, 13, 6, 50]\n",
      "Sorted List: [1, 2, 3, 5, 6, 9, 13, 22, 50]\n"
     ]
    }
   ],
   "source": [
    "def sorting_list (any_list):\n",
    "    my_list=any_list\n",
    "\n",
    "    for x in range(0,len(my_list)-1):\n",
    "          for y in range(x+1, len(my_list)):\n",
    "                  if my_list[x]< my_list[y]:\n",
    "                          continue\n",
    "                  else:\n",
    "                      temp=my_list[x]\n",
    "                      my_list[x]= my_list[y]\n",
    "                      my_list[y] = temp\n",
    "    return my_list\n",
    "\n",
    "\n",
    "my_list2=[1,5,2,9,3,22,13, 6, 50]\n",
    "print(\"Given List:\", my_list2)\n",
    "\n",
    "new_list= sorting_list(my_list2)\n",
    "\n",
    "\n",
    "print(\"Sorted List:\", new_list)"
   ]
  },
  {
   "cell_type": "code",
   "execution_count": null,
   "id": "b448f478",
   "metadata": {},
   "outputs": [],
   "source": []
  }
 ],
 "metadata": {
  "kernelspec": {
   "display_name": "Python 3 (ipykernel)",
   "language": "python",
   "name": "python3"
  },
  "language_info": {
   "codemirror_mode": {
    "name": "ipython",
    "version": 3
   },
   "file_extension": ".py",
   "mimetype": "text/x-python",
   "name": "python",
   "nbconvert_exporter": "python",
   "pygments_lexer": "ipython3",
   "version": "3.9.12"
  }
 },
 "nbformat": 4,
 "nbformat_minor": 5
}
